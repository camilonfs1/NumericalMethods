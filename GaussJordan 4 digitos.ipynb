{
 "cells": [
  {
   "cell_type": "code",
   "execution_count": 1,
   "metadata": {},
   "outputs": [],
   "source": [
    "import numpy"
   ]
  },
  {
   "cell_type": "code",
   "execution_count": 2,
   "metadata": {},
   "outputs": [],
   "source": [
    "def gaussJordan(matriz, vector):\n",
    "\n",
    "    matrix = numpy.array(matriz, dtype=numpy.float64)\n",
    "    vector = numpy.array(vector, dtype=numpy.float64)\n",
    "\n",
    "    m = len(vector)\n",
    "    x = numpy.zeros(m)    \n",
    "\n",
    "    for k in range(0, m):\n",
    "        for r in range(k+1, m):\n",
    "            factor=(matrix[r,k]/matrix[k,k])\n",
    "            vector[r]=vector[r]-(factor*vector[k])\n",
    "            for c in range(0,m):\n",
    "                matrix[r,c]=matrix[r,c]-(factor*matrix[k,c])\n",
    "\n",
    "    x[m-1]=\"%1.3e\"%(vector[m-1]/matrix[m-1, m-1])\n",
    "\n",
    "    for r in range(m-2, -1, -1):\n",
    "        suma = 0\n",
    "        for c in range(0,m):\n",
    "            suma=suma+matrix[r,c]*x[c]\n",
    "        x[r]=\"%1.3e\"%((vector[r]-suma)/matrix[r, r]  )\n",
    "    return x"
   ]
  },
  {
   "cell_type": "code",
   "execution_count": 3,
   "metadata": {},
   "outputs": [],
   "source": [
    "def digit(matriz,vector):\n",
    "    \n",
    "    matrix = numpy.array(matriz, dtype=numpy.float64)\n",
    "    x =  numpy.shape(matriz)\n",
    "    a = numpy.zeros(x)\n",
    "   # result = newMatrix(x[0],x[1])    \n",
    "    for k in range(0,x[0]):\n",
    "        for r in range(0,x[1]):\n",
    "            a[r,k] = \"%1.3e\"%(matrix[r,k]) \n",
    "    return  gaussJordan(a, vector)"
   ]
  },
  {
   "cell_type": "code",
   "execution_count": 4,
   "metadata": {},
   "outputs": [
    {
     "name": "stdout",
     "output_type": "stream",
     "text": [
      "[0.9348  0.6035  0.04768]\n"
     ]
    }
   ],
   "source": [
    "print(digit([[1,5,1],[10,1,1],[0.5,0.4,90]],[4,10,5]))"
   ]
  },
  {
   "cell_type": "code",
   "execution_count": null,
   "metadata": {},
   "outputs": [],
   "source": []
  }
 ],
 "metadata": {
  "kernelspec": {
   "display_name": "Python 3",
   "language": "python",
   "name": "python3"
  },
  "language_info": {
   "codemirror_mode": {
    "name": "ipython",
    "version": 3
   },
   "file_extension": ".py",
   "mimetype": "text/x-python",
   "name": "python",
   "nbconvert_exporter": "python",
   "pygments_lexer": "ipython3",
   "version": "3.7.6"
  }
 },
 "nbformat": 4,
 "nbformat_minor": 4
}
