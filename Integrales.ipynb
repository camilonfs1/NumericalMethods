{
 "cells": [
  {
   "cell_type": "markdown",
   "metadata": {},
   "source": [
    "# Integracion"
   ]
  },
  {
   "cell_type": "raw",
   "metadata": {},
   "source": [
    "#H\n",
    "\n",
    "trapecio     = W\n",
    "simpson      = W/2\n",
    "3/8 simpson  = W/3\n",
    "boole        = W/4\n",
    "\n",
    "#W\n",
    "M = numero de integralcitas\n",
    "W = Xfinal - Xinicial / M\n"
   ]
  },
  {
   "cell_type": "markdown",
   "metadata": {},
   "source": [
    "# Simpson"
   ]
  },
  {
   "cell_type": "code",
   "execution_count": 31,
   "metadata": {},
   "outputs": [],
   "source": [
    "def ws(xi,xf,m):\n",
    "    w = (xf-xi)/m\n",
    "    return w"
   ]
  },
  {
   "cell_type": "code",
   "execution_count": 32,
   "metadata": {},
   "outputs": [],
   "source": [
    "def hs(w):\n",
    "    h = w/2\n",
    "    return h"
   ]
  },
  {
   "cell_type": "code",
   "execution_count": 91,
   "metadata": {},
   "outputs": [],
   "source": [
    "def f(x):\n",
    "    result = (x)**2.5    \n",
    "    return result"
   ]
  },
  {
   "cell_type": "code",
   "execution_count": 94,
   "metadata": {},
   "outputs": [],
   "source": [
    "def simpson(xi,xf,m):\n",
    "    w  = ws(xi,xf,m)\n",
    "    h = hs(w)\n",
    "    xi = xi\n",
    "    aux = 0 \n",
    "    for i in range(m):       \n",
    "        I= (h/3*(f(xi)+4*f(xi+1*h)+f(xi+2*h))) \n",
    "        xi = xi + w\n",
    "        aux = I + aux\n",
    "        print ('----------------> I',i+1,'=',I)\n",
    "    print ('----------------> Integral : ',aux)     "
   ]
  },
  {
   "cell_type": "code",
   "execution_count": 95,
   "metadata": {
    "scrolled": true
   },
   "outputs": [
    {
     "name": "stdout",
     "output_type": "stream",
     "text": [
      "----------------> I 1 = 1.2799507655093054\n",
      "----------------> I 2 = 1.6064320881465557\n",
      "----------------> I 3 = 1.9783998952488766\n",
      "----------------> Integral :  4.864782748904737\n"
     ]
    }
   ],
   "source": [
    "xi = 2\n",
    "xf = 2.6\n",
    "m =  3\n",
    "\n",
    "simpson(xi,xf,m)"
   ]
  },
  {
   "cell_type": "markdown",
   "metadata": {},
   "source": [
    "# 3/8 simpson "
   ]
  },
  {
   "cell_type": "code",
   "execution_count": 78,
   "metadata": {},
   "outputs": [],
   "source": [
    "def simp(xi,xf,m):\n",
    "    w  = ws(xi,xf,m)\n",
    "    h = hs(w)\n",
    "    aux = 0 \n",
    "    for i in range(m):       \n",
    "        I= ((3*h/8)*(f(xi)+3*f(xi+1*h)+3*f(xi+2*h)+f(xi+3*h)))\n",
    "        xi = xi + w\n",
    "        aux = I + aux\n",
    "        print ('----------------> I',i+1,'=',I)\n",
    "    print ('----------------> Integral : ',aux)     "
   ]
  },
  {
   "cell_type": "code",
   "execution_count": 79,
   "metadata": {},
   "outputs": [
    {
     "name": "stdout",
     "output_type": "stream",
     "text": [
      "----------------> I 1 = 1.2799507655093054\n",
      "----------------> I 2 = 1.6064320881465557\n",
      "----------------> I 3 = 1.9783998952488766\n",
      "----------------> Integral :  4.864782748904737\n"
     ]
    }
   ],
   "source": [
    "xi = 2\n",
    "xf = 2.6\n",
    "m = 3\n",
    "\n",
    "simpson(xi,xf,m)"
   ]
  },
  {
   "cell_type": "code",
   "execution_count": null,
   "metadata": {},
   "outputs": [],
   "source": []
  }
 ],
 "metadata": {
  "kernelspec": {
   "display_name": "Python 3",
   "language": "python",
   "name": "python3"
  },
  "language_info": {
   "codemirror_mode": {
    "name": "ipython",
    "version": 3
   },
   "file_extension": ".py",
   "mimetype": "text/x-python",
   "name": "python",
   "nbconvert_exporter": "python",
   "pygments_lexer": "ipython3",
   "version": "3.7.6"
  }
 },
 "nbformat": 4,
 "nbformat_minor": 4
}
