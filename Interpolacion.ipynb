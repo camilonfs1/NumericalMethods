{
 "cells": [
  {
   "cell_type": "markdown",
   "metadata": {},
   "source": [
    "# Interpolacion "
   ]
  },
  {
   "cell_type": "code",
   "execution_count": 69,
   "metadata": {},
   "outputs": [],
   "source": [
    "from numpy import array\n",
    "import numpy as np"
   ]
  },
  {
   "cell_type": "markdown",
   "metadata": {},
   "source": [
    "# El polinomio de Lagrange "
   ]
  },
  {
   "cell_type": "code",
   "execution_count": 66,
   "metadata": {},
   "outputs": [],
   "source": [
    "def p(x,xi,yk,n): \n",
    "    result = [0,0,0]\n",
    "    for k in range(0,n):        \n",
    "        for i in range(0,n): \n",
    "            if(i!=k):\n",
    "                result[k] = float(((x-xi[i])/(xi[k]-xi[i]))*yk[k])                \n",
    "    suma = result[0]+result[1]\n",
    "    print ('---->',suma )             "
   ]
  },
  {
   "cell_type": "code",
   "execution_count": 68,
   "metadata": {},
   "outputs": [
    {
     "name": "stdout",
     "output_type": "stream",
     "text": [
      "----> 0.9924\n"
     ]
    }
   ],
   "source": [
    "x=85\n",
    "xi=array([80,90])\n",
    "yk=array([0.9848,1])\n",
    "n=2\n",
    "\n",
    "p(x,xi,yk,n)\n"
   ]
  },
  {
   "cell_type": "markdown",
   "metadata": {},
   "source": [
    "# El polinomio de Newton"
   ]
  },
  {
   "cell_type": "code",
   "execution_count": null,
   "metadata": {},
   "outputs": [],
   "source": []
  },
  {
   "cell_type": "markdown",
   "metadata": {},
   "source": [
    "# Mínimos cuadrados"
   ]
  },
  {
   "cell_type": "code",
   "execution_count": 70,
   "metadata": {},
   "outputs": [
    {
     "name": "stdout",
     "output_type": "stream",
     "text": [
      "[[  1.      1.      1.      1.   ]\n",
      " [  3.871   4.564   5.123   5.48 ]\n",
      " [  4.     16.     49.    100.   ]]\n",
      "\n",
      "[[4.0000000e+00 1.9038000e+01 1.6900000e+02]\n",
      " [1.9038000e+01 9.2090266e+01 8.8753500e+02]\n",
      " [1.6900000e+02 8.8753500e+02 1.2673000e+04]]\n",
      "\n",
      "[  79.     403.525 5200.   ]\n",
      "\n",
      "[[ 7.50527942e+01 -1.80588060e+01  2.63860188e-01]\n",
      " [-1.80588060e+01  4.37862218e+00 -6.58283138e-02]\n",
      " [ 2.63860188e-01 -6.58283138e-02  1.17040644e-03]]\n",
      "\n",
      "[14.06402885 -2.06939133  0.36769797]\n"
     ]
    }
   ],
   "source": [
    "F=np.array([\n",
    "   [1.000, 3.871  ,4.000], \n",
    "   [1.000, 4.564  ,16.00], \n",
    "   [1.000, 5.123  ,49.00], \n",
    "   [1.000, 5.480  ,100.0]]) \n",
    "\n",
    "y=[7,12,20,40]\n",
    "\n",
    "FT = F.transpose()\n",
    "print(FT)\n",
    "S=np.dot(FT, F)\n",
    "print()\n",
    "print(S)\n",
    "print()\n",
    "\n",
    "b=np.dot(FT, y)\n",
    "print(b)\n",
    "print()\n",
    "x = np.linalg.inv(S)\n",
    "print(x)\n",
    "print()\n",
    "c= np.dot(x, b)\n",
    "\n",
    "print(c)"
   ]
  },
  {
   "cell_type": "code",
   "execution_count": null,
   "metadata": {},
   "outputs": [],
   "source": []
  }
 ],
 "metadata": {
  "kernelspec": {
   "display_name": "Python 3",
   "language": "python",
   "name": "python3"
  },
  "language_info": {
   "codemirror_mode": {
    "name": "ipython",
    "version": 3
   },
   "file_extension": ".py",
   "mimetype": "text/x-python",
   "name": "python",
   "nbconvert_exporter": "python",
   "pygments_lexer": "ipython3",
   "version": "3.7.6"
  }
 },
 "nbformat": 4,
 "nbformat_minor": 4
}
