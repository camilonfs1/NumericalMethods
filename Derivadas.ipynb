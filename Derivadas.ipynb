{
 "cells": [
  {
   "cell_type": "markdown",
   "metadata": {},
   "source": [
    "# Calculo h"
   ]
  },
  {
   "cell_type": "code",
   "execution_count": 13,
   "metadata": {},
   "outputs": [],
   "source": [
    "import math"
   ]
  },
  {
   "cell_type": "code",
   "execution_count": 115,
   "metadata": {},
   "outputs": [],
   "source": [
    "def hs(e,d,o):\n",
    "    h = 2*e**(1/(o+d))\n",
    "    return (h)"
   ]
  },
  {
   "cell_type": "markdown",
   "metadata": {},
   "source": [
    "# Progresivas O(h^1)"
   ]
  },
  {
   "cell_type": "code",
   "execution_count": 93,
   "metadata": {},
   "outputs": [],
   "source": [
    "def progresiva(x):\n",
    "    \n",
    "    #x**3.5\n",
    "    \n",
    "    e=0.5*10**-15 #funtion error\n",
    "    d=1           #Orden de la derivada.\n",
    "    o=1           #Exponente del Orden de error \n",
    "\n",
    "    h = float(hs(e,d,o))\n",
    "    \n",
    "    print ('h = ',h)\n",
    "    \n",
    "    fun1= (math.sin(x+h))\n",
    "    fun2= math.sin(x)\n",
    "    \n",
    "    dividendo =  fun1 - fun2 \n",
    "    divisor = 2*h\n",
    "    derivada = (dividendo)/(divisor)\n",
    "    \n",
    "    print (derivada)"
   ]
  },
  {
   "cell_type": "code",
   "execution_count": 94,
   "metadata": {},
   "outputs": [
    {
     "name": "stdout",
     "output_type": "stream",
     "text": [
      "h =  4.472e-08\n",
      "0.2701511433061677\n"
     ]
    }
   ],
   "source": [
    "x = 1\n",
    "progresiva(x)"
   ]
  },
  {
   "cell_type": "markdown",
   "metadata": {},
   "source": [
    "# Regresivas O(h^1)"
   ]
  },
  {
   "cell_type": "code",
   "execution_count": 31,
   "metadata": {},
   "outputs": [],
   "source": [
    "def regresiva(x):  \n",
    "    \n",
    "    #x**3.5\n",
    "    \n",
    "    e=0.5*10**-15 #funtion error\n",
    "    d=1           #Orden de la derivada.\n",
    "    o=1           #Exponente del Orden de error \n",
    "\n",
    "    h = float(hs(e,d,o))\n",
    "    \n",
    "    print ('h = ',h)\n",
    "        \n",
    "    fun1= (2)**3.5\n",
    "    fun2= (2-h)**3.5\n",
    "    \n",
    "    dividendo =  fun1 - fun2 \n",
    "    divisor = 2*h\n",
    "    derivada = (dividendo)/(divisor)\n",
    "    \n",
    "    print (derivada)"
   ]
  },
  {
   "cell_type": "code",
   "execution_count": 32,
   "metadata": {},
   "outputs": [
    {
     "name": "stdout",
     "output_type": "stream",
     "text": [
      "h =  4.472e-08\n",
      "9.899494660707004\n"
     ]
    }
   ],
   "source": [
    "x = 2\n",
    "regresiva(x)"
   ]
  },
  {
   "cell_type": "markdown",
   "metadata": {},
   "source": [
    "# Centradas O(h^2)"
   ]
  },
  {
   "cell_type": "code",
   "execution_count": 120,
   "metadata": {},
   "outputs": [],
   "source": [
    "def centrada(x):\n",
    "    \n",
    "    #x**3.5\n",
    "    #sin(10^6x)\n",
    "    \n",
    "    e=0.5*10**-3 #funtion error\n",
    "    d=4           #Orden de la derivada.\n",
    "    o=2           #Exponente del Orden de error \n",
    "\n",
    "    h = float(hs(e,d,o))\n",
    "    \n",
    "    print ('h = ',\"%1.3e\"%(h))\n",
    "    \n",
    "    #fun1= math.sin((10**6)*(x+h))\n",
    "    #fun2= math.sin((10**6)*(x-h))\n",
    "    fun1= (x+h)**3.5\n",
    "    fun2= (x-h)**3.5\n",
    "    \n",
    "    dividendo =  fun1 - fun2 \n",
    "    divisor = 2*h\n",
    "    derivada = abs((dividendo)/(divisor))\n",
    "    \n",
    "    print (\"f'(x) = \",(derivada))"
   ]
  },
  {
   "cell_type": "code",
   "execution_count": 121,
   "metadata": {},
   "outputs": [
    {
     "name": "stdout",
     "output_type": "stream",
     "text": [
      "h =  5.635e-01\n",
      "f'(x) =  20.78016271659262\n"
     ]
    }
   ],
   "source": [
    "x = 2\n",
    "centrada(x)"
   ]
  },
  {
   "cell_type": "code",
   "execution_count": null,
   "metadata": {},
   "outputs": [],
   "source": [
    "def hs(e,d,o):\n",
    "    h = (d/o*((1*e)/))\n",
    "    return (h)"
   ]
  }
 ],
 "metadata": {
  "kernelspec": {
   "display_name": "Python 3",
   "language": "python",
   "name": "python3"
  },
  "language_info": {
   "codemirror_mode": {
    "name": "ipython",
    "version": 3
   },
   "file_extension": ".py",
   "mimetype": "text/x-python",
   "name": "python",
   "nbconvert_exporter": "python",
   "pygments_lexer": "ipython3",
   "version": "3.7.6"
  }
 },
 "nbformat": 4,
 "nbformat_minor": 4
}
