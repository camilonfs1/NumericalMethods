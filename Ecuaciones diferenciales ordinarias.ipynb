{
 "cells": [
  {
   "cell_type": "markdown",
   "metadata": {},
   "source": [
    "# Euler"
   ]
  },
  {
   "cell_type": "code",
   "execution_count": 11,
   "metadata": {},
   "outputs": [],
   "source": [
    "def f(x,y):\n",
    "    result = float(3.5*(y)/x)\n",
    "    return result"
   ]
  },
  {
   "cell_type": "code",
   "execution_count": 43,
   "metadata": {
    "scrolled": true
   },
   "outputs": [],
   "source": [
    "def euler(x0,y0,h):    \n",
    "    k1=float(f(x0,y0))\n",
    "    print ('------> k1 = ',k1)\n",
    "    x1=x0+h\n",
    "    y1=y0+h*k1\n",
    "    \n",
    "    print ('x1 = ',x1)\n",
    "    print ('y1 = ',y1)\n",
    "    \n",
    "    #Paso 2 --------------------------------------\n",
    "    \n",
    "    k2=float(f(x1,y1))\n",
    "    print ('------> k2 = ',\"%1.2e\"%(k2))\n",
    "    x2=x1+h\n",
    "    y2=y1+h*k2\n",
    "    \n",
    "    print ('x2 = ',\"%1.1e\"%(x2))\n",
    "    print ('y2 = ',\"%1.1e\"%(y2))\n",
    "    \n",
    "    #Paso 3 --------------------------------------\n",
    "    \n",
    "    k3=float(f(x2,y2))\n",
    "    print ('------> k3 = ',\"%1.2e\"%(k3))\n",
    "    x3=x2+h\n",
    "    y3=y2+h*k3\n",
    "    \n",
    "    print ('x3 = ',\"%1.1e\"%(x3))\n",
    "    print ('y3 = ',\"%1.1e\"%(y3))   \n",
    "  "
   ]
  },
  {
   "cell_type": "code",
   "execution_count": 44,
   "metadata": {
    "scrolled": true
   },
   "outputs": [
    {
     "name": "stdout",
     "output_type": "stream",
     "text": [
      "------> k1 =  3.5\n",
      "x1 =  1.1\n",
      "y1 =  1.35\n",
      "------> k2 =  4.30e+00\n",
      "x2 =  1.2e+00\n",
      "y2 =  1.8e+00\n",
      "------> k3 =  5.19e+00\n",
      "x3 =  1.3e+00\n",
      "y3 =  2.3e+00\n"
     ]
    }
   ],
   "source": [
    "x0=1\n",
    "y0=1\n",
    "h=0.1\n",
    "euler(x0,y0,h)"
   ]
  },
  {
   "cell_type": "markdown",
   "metadata": {},
   "source": [
    "# Runge - Kutt 4to orden"
   ]
  },
  {
   "cell_type": "code",
   "execution_count": 59,
   "metadata": {},
   "outputs": [],
   "source": [
    "def rugen(x0,y0,h):\n",
    "    #Paso 1 --------------------------------------\n",
    "    k1=float(f(x0,y0))\n",
    "    k2=float(f(x0+h/2,y0+h/2*k1))\n",
    "    k3=float(f(x0+h/2,y0+h/2*k2))\n",
    "    k4=float(f(x0+h,y0+h*k3))\n",
    "    print ('k1 = ',\"%1.5e\"%(k1))\n",
    "    print ('k2 = ',\"%1.5e\"%(k2))\n",
    "    print ('k3 = ',\"%1.5e\"%(k3))\n",
    "    print ('k4 = ',\"%1.5e\"%(k4))\n",
    "    \n",
    "    k = (k1+2*k2+2*k3+k4)/6    \n",
    "    print ('k = ',\"%1.5e\"%(k))\n",
    "    \n",
    "    y1= y0+k*h\n",
    "    x1= x0+h\n",
    "    \n",
    "    print ('---------- >y1 = ',\"%1.5e\"%(y1))\n",
    "    print ('---------- >x1 = ',\"%1.5e\"%(x1))\n",
    "    #Paso 2 --------------------------------------\n",
    "    k1=float(f(x1,y1))\n",
    "    k2=float(f(x1+h/2,y1+h/2*k1))\n",
    "    k3=float(f(x1+h/2,y1+h/2*k2))\n",
    "    k4=float(f(x1+h,y1+h*k3))\n",
    "    print ('k1 = ',\"%1.5e\"%(k1))\n",
    "    print ('k2 = ',\"%1.5e\"%(k2))\n",
    "    print ('k3 = ',\"%1.5e\"%(k3))\n",
    "    print ('k4 = ',\"%1.5e\"%(k4))\n",
    "    \n",
    "    k = (k1+2*k2+2*k3+k4)/6    \n",
    "    print ('k = ',\"%1.5e\"%(k))\n",
    "    \n",
    "    y2= y1+k*h\n",
    "    x2= x1+h\n",
    "    \n",
    "    print ('---------- >y2 = ',\"%1.5e\"%(y2))\n",
    "    print ('---------- >x2 = ',\"%1.5e\"%(x2))\n",
    "\n"
   ]
  },
  {
   "cell_type": "code",
   "execution_count": 60,
   "metadata": {},
   "outputs": [
    {
     "name": "stdout",
     "output_type": "stream",
     "text": [
      "k1 =  3.50000e+00\n",
      "k2 =  3.91667e+00\n",
      "k3 =  3.98611e+00\n",
      "k4 =  4.45013e+00\n",
      "k =  3.95928e+00\n",
      "---------- >y1 =  1.39593e+00\n",
      "---------- >x1 =  1.10000e+00\n",
      "k1 =  4.44159e+00\n",
      "k2 =  4.92437e+00\n",
      "k3 =  4.99784e+00\n",
      "k4 =  5.52916e+00\n",
      "k =  4.96919e+00\n",
      "---------- >y2 =  1.89285e+00\n",
      "---------- >x2 =  1.20000e+00\n"
     ]
    }
   ],
   "source": [
    "x0=1\n",
    "y0=1\n",
    "h=0.1\n",
    "rugen(x0,y0,h)"
   ]
  },
  {
   "cell_type": "markdown",
   "metadata": {},
   "source": [
    "# Sistemas de ecuaciones diferenciales"
   ]
  },
  {
   "cell_type": "code",
   "execution_count": 61,
   "metadata": {},
   "outputs": [],
   "source": [
    "def f1(x,y,z):\n",
    "    result = z\n",
    "    return result"
   ]
  },
  {
   "cell_type": "code",
   "execution_count": 62,
   "metadata": {},
   "outputs": [],
   "source": [
    "def f2(x,y,z):\n",
    "    result = (8.75*y/x**2)+z-3.5*x**2.5\n",
    "    return result"
   ]
  },
  {
   "cell_type": "code",
   "execution_count": 77,
   "metadata": {},
   "outputs": [],
   "source": [
    "def rugen2(x0,y0,z0,h):\n",
    "    k1=float(f1(x0,y0,z0))\n",
    "    K1=float(f2(x0,y0,z0))\n",
    "    \n",
    "    print ('k1 -->',k1)\n",
    "    print ('K1 -->',K1)\n",
    "    \n",
    "    k2=float(f1(x0+h/2,y0+h/2*k1,z0+h/2*K1))\n",
    "    K2=float(f2(x0+h/2,y0+h/2*k1,z0+h/2*K1))\n",
    "    \n",
    "    print ('k2 -->',k2)\n",
    "    print ('K2 -->',K2)\n",
    "    \n",
    "    k3=float(f1(x0+h/2,y0+h/2*k2,z0+h/2*K2))\n",
    "    K3=float(f2(x0+h/2,y0+h/2*k2,z0+h/2*K2))\n",
    "    \n",
    "    print ('k3 -->',k3)\n",
    "    print ('K3 -->',K3)\n",
    "    \n",
    "    k4=float(f1(x0+h,y0+h*k3,z0+h*K3))\n",
    "    K4=float(f2(x0+h,y0+h*k3,z0+h*K3))\n",
    "    \n",
    "    print ('k4 -->',k4)\n",
    "    print ('K4 -->',K4)\n",
    "    \n",
    "    k = (k1+2*k2+2*k3+k4)/6  \n",
    "    K = (K1+2*K2+2*K3+K4)/6 \n",
    "    \n",
    "    print ('\\n')\n",
    "    print ('k -->',k)\n",
    "    print ('K -->',K)\n",
    "    \n",
    "    x1=\"%1.4e\"%(x0+h)\n",
    "    y1=\"%1.4e\"%(y0+h*k)\n",
    "    z1=\"%1.4e\"%(z0+h*K)\n",
    "    \n",
    "    print ('\\n')\n",
    "    print ('x1 -->',x1)\n",
    "    print ('y1 -->',y1)\n",
    "    print ('z1 -->',z1)"
   ]
  },
  {
   "cell_type": "code",
   "execution_count": 78,
   "metadata": {},
   "outputs": [
    {
     "name": "stdout",
     "output_type": "stream",
     "text": [
      "k1 --> 3.5\n",
      "K1 --> 8.75\n",
      "k2 --> 3.9375\n",
      "K2 --> 9.308854698582163\n",
      "k3 --> 3.965442734929108\n",
      "K3 --> 9.510408544622384\n",
      "k4 --> 4.451040854462239\n",
      "K4 --> 10.108312566811207\n",
      "\n",
      "\n",
      "k --> 3.9594877207200763\n",
      "K --> 9.416139842203384\n",
      "\n",
      "\n",
      "x1 --> 1.1000e+00\n",
      "y1 --> 1.3959e+00\n",
      "z1 --> 4.4416e+00\n"
     ]
    }
   ],
   "source": [
    "x0=1\n",
    "y0=1\n",
    "z0=3.5\n",
    "h=0.1\n",
    "rugen2(x0,y0,z0,h)"
   ]
  },
  {
   "cell_type": "markdown",
   "metadata": {},
   "source": [
    "# Sistema de ecuaciones por Eules"
   ]
  },
  {
   "cell_type": "code",
   "execution_count": 20,
   "metadata": {},
   "outputs": [],
   "source": [
    "def f1(x,y,z):\n",
    "    result = z\n",
    "    return result"
   ]
  },
  {
   "cell_type": "code",
   "execution_count": 21,
   "metadata": {},
   "outputs": [],
   "source": [
    "def f2(x,y,z):\n",
    "    result = (8.75*y/x**2)+z-3.5*x**2.5\n",
    "    return result"
   ]
  },
  {
   "cell_type": "code",
   "execution_count": 22,
   "metadata": {},
   "outputs": [],
   "source": [
    "def euler2(x0,y0,z0,h):    \n",
    "    k1=float(f1(x0,y0,z0))\n",
    "    K1=float(f2(x0,y0,z0))\n",
    "    print ('------> k1 = ',k1)\n",
    "    print ('------> K1 = ',K1)\n",
    "    x1=x0+h\n",
    "    y1=y0+h*k1\n",
    "    z1=z0+h*K1\n",
    "    \n",
    "    print ('x1 = ',x1)\n",
    "    print ('y1 = ',y1)\n",
    "    print ('z1 = ',\"%1.1e\"%(z1)) \n",
    "    \n",
    "    \n",
    "    #Paso 2 --------------------------------------\n",
    "    \n",
    "    k2=float(f1(x1,y1,z1))\n",
    "    K2=float(f2(x1,y1,z1))\n",
    "    print ('------> k2 = ',\"%1.2e\"%(k2))\n",
    "    print ('------> K2 = ',\"%1.2e\"%(K2))\n",
    "    x2=x1+h\n",
    "    y2=y1+h*k2\n",
    "    z2=z1+h*K2\n",
    "    \n",
    "    print ('x2 = ',\"%1.1e\"%(x2))\n",
    "    print ('y2 = ',\"%1.1e\"%(y2))\n",
    "    print ('z3 = ',\"%1.1e\"%(z2)) \n",
    "    \n",
    "    #Paso 3 --------------------------------------\n",
    "    \n",
    "    k3=float(f1(x2,y2,z2))\n",
    "    K3=float(f2(x2,y2,z2))\n",
    "    print ('------> k3 = ',\"%1.2e\"%(k3))\n",
    "    print ('------> K3 = ',\"%1.2e\"%(K3))\n",
    "    x3=x2+h\n",
    "    y3=y2+h*k3\n",
    "    z3=z2+h*K3\n",
    "    \n",
    "    print ('x3 = ',\"%1.4e\"%(x3))\n",
    "    print ('y3 = ',\"%1.4e\"%(y3))  \n",
    "    print ('z3 = ',\"%1.4e\"%(z3)) "
   ]
  },
  {
   "cell_type": "code",
   "execution_count": 23,
   "metadata": {
    "scrolled": true
   },
   "outputs": [
    {
     "name": "stdout",
     "output_type": "stream",
     "text": [
      "------> k1 =  0.0\n",
      "------> K1 =  5.25\n",
      "x1 =  1.1\n",
      "y1 =  1.0\n",
      "z1 =  5.3e-01\n",
      "------> k2 =  5.25e-01\n",
      "------> K2 =  3.31e+00\n",
      "x2 =  1.2e+00\n",
      "y2 =  1.1e+00\n",
      "z3 =  8.6e-01\n",
      "------> k3 =  8.56e-01\n",
      "------> K3 =  1.73e+00\n",
      "x3 =  1.3000e+00\n",
      "y3 =  1.1381e+00\n",
      "z3 =  1.0296e+00\n"
     ]
    }
   ],
   "source": [
    "x0=1\n",
    "y0=1\n",
    "z0=0\n",
    "h=0.1\n",
    "euler2(x0,y0,z0,h)"
   ]
  },
  {
   "cell_type": "code",
   "execution_count": 24,
   "metadata": {},
   "outputs": [],
   "source": [
    "def f1(x,y,z):\n",
    "    result = z\n",
    "    return result"
   ]
  },
  {
   "cell_type": "code",
   "execution_count": 25,
   "metadata": {},
   "outputs": [],
   "source": [
    "def f2(x,y,z):\n",
    "    result = (8.75*y/x**2)+z\n",
    "    return result"
   ]
  },
  {
   "cell_type": "code",
   "execution_count": 26,
   "metadata": {},
   "outputs": [
    {
     "name": "stdout",
     "output_type": "stream",
     "text": [
      "------> k1 =  1.0\n",
      "------> K1 =  1.0\n",
      "x1 =  1.1\n",
      "y1 =  0.1\n",
      "z1 =  1.1e+00\n",
      "------> k2 =  1.10e+00\n",
      "------> K2 =  1.82e+00\n",
      "x2 =  1.2e+00\n",
      "y2 =  2.1e-01\n",
      "z3 =  1.3e+00\n",
      "------> k3 =  1.28e+00\n",
      "------> K3 =  2.56e+00\n",
      "x3 =  1.3000e+00\n",
      "y3 =  3.3823e-01\n",
      "z3 =  1.5381e+00\n"
     ]
    }
   ],
   "source": [
    "x0=1\n",
    "y0=0\n",
    "z0=1\n",
    "h=0.1\n",
    "euler2(x0,y0,z0,h)"
   ]
  },
  {
   "cell_type": "code",
   "execution_count": null,
   "metadata": {},
   "outputs": [],
   "source": []
  }
 ],
 "metadata": {
  "kernelspec": {
   "display_name": "Python 3",
   "language": "python",
   "name": "python3"
  },
  "language_info": {
   "codemirror_mode": {
    "name": "ipython",
    "version": 3
   },
   "file_extension": ".py",
   "mimetype": "text/x-python",
   "name": "python",
   "nbconvert_exporter": "python",
   "pygments_lexer": "ipython3",
   "version": "3.7.6"
  }
 },
 "nbformat": 4,
 "nbformat_minor": 4
}
